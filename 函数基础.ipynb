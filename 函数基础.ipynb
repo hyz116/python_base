{
 "cells": [
  {
   "cell_type": "code",
   "execution_count": 1,
   "id": "3070d2cc",
   "metadata": {},
   "outputs": [
    {
     "name": "stdout",
     "output_type": "stream",
     "text": [
      "Got a message: hello world\n"
     ]
    }
   ],
   "source": [
    "## 函数的声明\n",
    "def my_func(message):\n",
    "    print('Got a message: {}'.format(message))\n",
    "## 调用函数\n",
    "my_func('hello world')\n",
    "## def 表示函数声明\n",
    "## my_func 函数名称\n",
    "## message 函数形参\n",
    "## print 语句为函数主体\n",
    "## 在函数最后，可以返回调用结果（return or yield) 也可以不返回\n",
    "## 函数定义形式如下\n",
    "# def name(param1,param2,...,paramN):\n",
    "#    statements\n",
    "#    return/yield value # optional"
   ]
  },
  {
   "cell_type": "code",
   "execution_count": 4,
   "id": "965cc862",
   "metadata": {},
   "outputs": [
    {
     "name": "stdout",
     "output_type": "stream",
     "text": [
      "3\n",
      "hello world\n"
     ]
    }
   ],
   "source": [
    "def my_sum(a, b):\n",
    "    return a + b;\n",
    "## 整数相加\n",
    "print(my_sum(1,2))\n",
    "## 字符串拼接\n",
    "print(my_sum('hello', ' world'))"
   ]
  },
  {
   "cell_type": "code",
   "execution_count": 10,
   "id": "5013b681",
   "metadata": {},
   "outputs": [
    {
     "name": "stdout",
     "output_type": "stream",
     "text": [
      "last_largest_element is 88\n",
      "message: hello world\n"
     ]
    }
   ],
   "source": [
    "## 主程序调用函数时，函数必须要先声明，否则会报错\n",
    "def find_largest_element(l):\n",
    "    ## 先判断是否为list的实例\n",
    "    if not isinstance(l, list):\n",
    "        print('input l not type of list')\n",
    "        return\n",
    "    ## 检查长度\n",
    "    if len(l) == 0:\n",
    "        print('empty input')\n",
    "        return\n",
    "    last_largest_element = l[0]\n",
    "    ## 遍历列表\n",
    "    for item in l:\n",
    "        if item > last_largest_element:\n",
    "            last_largest_element = item\n",
    "    print('last_largest_element is {}'.format(last_largest_element))\n",
    "    ## 在函数内部调用其他函数，my_print 函数声明在find_largest_element后\n",
    "    my_print('hello world')\n",
    "\n",
    "## 声明列表\n",
    "l = [1, 10, 88, 3, 4]\n",
    "## 调用函数\n",
    "find_largest_element(l)\n",
    "\n",
    "## 在函数内部调用其他函数，函数间声明顺序无所谓，在前在后都可以\n",
    "def my_print(message):\n",
    "    print('message: {}'.format(message))"
   ]
  },
  {
   "cell_type": "code",
   "execution_count": 14,
   "id": "9bdd2166",
   "metadata": {},
   "outputs": [
    {
     "name": "stdout",
     "output_type": "stream",
     "text": [
      "message : hello world\n",
      "message : hello python\n"
     ]
    }
   ],
   "source": [
    "## 函数形参默认值，如果一个函数在调用时参数未传入，但是指定了参数默认值，则使用参数默认值。如果传入了参数，则会覆盖制定的默认值\n",
    "## Java 语言无此特性\n",
    "def my_func(message = 'hello world'):\n",
    "    print('message : {}'.format(message))\n",
    "## 调用函数，不传参数\n",
    "my_func()\n",
    "my_func('hello python')"
   ]
  },
  {
   "cell_type": "code",
   "execution_count": 18,
   "id": "9bbff86f",
   "metadata": {},
   "outputs": [
    {
     "name": "stdout",
     "output_type": "stream",
     "text": [
      "message: hello python\n",
      "First element: 100\n"
     ]
    }
   ],
   "source": [
    "## 函数嵌套，被嵌套的内部函数，只能被外部函数调用\n",
    "def my_func_1(message = 'hello world'):\n",
    "    print('message: {}'.format(message))\n",
    "    ## 在my_func_1内部声明函数\n",
    "    def my_func_2(l):\n",
    "        if not isinstance(l, list):\n",
    "            return\n",
    "        # 取list第一个元素打印\n",
    "        print('First element: {}'.format(l[0]))\n",
    "    ## 调用内部函数\n",
    "    my_func_2([100,3, 4,5])\n",
    "\n",
    "## 调用函数my_func_1\n",
    "my_func_1('hello python')\n",
    "## 函数的嵌套主要有两个方面作用\n",
    "## 1. 保证内部函数的安全。内部函数只能被外部函数使用\n",
    "## 2. 合理使用函数嵌套，能够提高程序运行效率"
   ]
  },
  {
   "cell_type": "code",
   "execution_count": 21,
   "id": "a34c17ce",
   "metadata": {},
   "outputs": [
    {
     "name": "stdout",
     "output_type": "stream",
     "text": [
      "120\n"
     ]
    }
   ],
   "source": [
    "## 数的阶乘\n",
    "def factorial(i):\n",
    "    # 入参检查\n",
    "    if not isinstance(i, int):\n",
    "        raise Exception('Input must be an Integer.')\n",
    "    if i < 0:\n",
    "        raise Exception('Input must be greater or equal to 0')\n",
    "        \n",
    "    ## 定义内部函数，专门处理阶乘\n",
    "    def inner_factorial(i):\n",
    "        if i <= 1:\n",
    "            return 1\n",
    "        return i * inner_factorial(i - 1)\n",
    "    return inner_factorial(i)\n",
    "\n",
    "# 打印10的阶乘\n",
    "print(factorial(5))\n",
    "## 如果函数开头需要做一些额外操作，然而又需要多次调用这个函数时，那么就可以将这些额外操作放到外部函数中，执行操作放到内部函数中。\n",
    "# 就可以减少多次调用而导致的不必要开销\n"
   ]
  },
  {
   "cell_type": "code",
   "execution_count": 31,
   "id": "3f9e3e96",
   "metadata": {},
   "outputs": [
    {
     "name": "stdout",
     "output_type": "stream",
     "text": [
      "message: hello world, MIN_VALUE:-1\n",
      "Modify MIN_VALUE:-100\n",
      "out_func message:hello world\n",
      "out_func message:hello python\n"
     ]
    }
   ],
   "source": [
    "## 函数变量作用域，函数变量属于局部变量，只在函数内部有效。\n",
    "## 全局变量在整个文件有效，不要在函数内部修改全局变量的值\n",
    "## 如果试图在函数内部访问并修改全局变量，则需要加上global关键字\n",
    "\n",
    "## 内部函数可以访问外部函数的变量，但是无法修改，如果需要修改，需要加上关键字nonlocal。否则内部函数的变量会覆盖外部函数的同名变量\n",
    "\n",
    "# 全局变量\n",
    "MIN_VALUE = -1\n",
    "def my_func(message):\n",
    "    # 加上global 关键字, 必须在使用之前就用global关键字来修饰\n",
    "    global MIN_VALUE\n",
    "    ## 访问全局变量\n",
    "    print('message: {}, MIN_VALUE:{}'.format(message, MIN_VALUE))\n",
    "    # 在函数内部尝试修改全局变量, MIN_VALUE 会被当作局部变量来处理，（变量需要先声明）\n",
    "    # local variable 'MIN_VALUE' referenced before assignment\n",
    "    # MIN_VALUE = -100\n",
    "    MIN_VALUE = -100\n",
    "    print('Modify MIN_VALUE:{}'.format(MIN_VALUE))\n",
    "    \n",
    "    ## 内部函数\n",
    "    def inner_my_func():\n",
    "        ## 访问外部函数的变量\n",
    "        ## 使用关键字nonlocal 来修改, 必须在使用之前\n",
    "        nonlocal message\n",
    "        \n",
    "        print('out_func message:{}'.format(message))\n",
    "        ## 尝试修改外部函数的变量，报错：local variable 'message' referenced before assignment\n",
    "        message = 'hello python'\n",
    "        print('out_func message:{}'.format(message))\n",
    "    inner_my_func()\n",
    "    \n",
    "my_func('hello world')\n",
    "## 访问函数my_func的变量，将会报错, not defined\n",
    "# print(message)\n",
    "\n",
    "## 内部函数"
   ]
  },
  {
   "cell_type": "code",
   "execution_count": 33,
   "id": "098d6497",
   "metadata": {},
   "outputs": [
    {
     "name": "stdout",
     "output_type": "stream",
     "text": [
      "4\n",
      "9\n",
      "8\n",
      "27\n"
     ]
    }
   ],
   "source": [
    "## 闭包，类似于函数嵌套，普通的函数嵌套外部函数返回的是普通值，而闭包返回的是一个函数\n",
    "def nth_power(exponent):\n",
    "    def exponent_of(base):\n",
    "        return base ** exponent\n",
    "    return exponent_of # 返回值是exponent_of函数\n",
    "\n",
    "## 外部函数传入的值，在使用闭包时一直会保留\n",
    "# 计算一个数的平方\n",
    "square = nth_power(2)\n",
    "#square\n",
    "# 计算一个数的立方\n",
    "cube = nth_power(3)\n",
    "#cube\n",
    "print(square(2))\n",
    "print(square(3))\n",
    "print(cube(2))\n",
    "print(cube(3))\n",
    "\n",
    "## 闭包存在的作用\n",
    "## 1. 程序简洁易读\n",
    "## 2. 函数开头需要做一些额外工作，而你又需要多次调用这个函数时，\n",
    "#  将那些额外工作的代码放在外部函数，就可以减少多次调用导致的不必要的开销，提高程序的运行效率\n",
    "## 3. 闭包常常和装饰器（decorator）一起使用"
   ]
  },
  {
   "cell_type": "code",
   "execution_count": null,
   "id": "2e9d447f",
   "metadata": {},
   "outputs": [],
   "source": []
  }
 ],
 "metadata": {
  "kernelspec": {
   "display_name": "Python 3 (ipykernel)",
   "language": "python",
   "name": "python3"
  },
  "language_info": {
   "codemirror_mode": {
    "name": "ipython",
    "version": 3
   },
   "file_extension": ".py",
   "mimetype": "text/x-python",
   "name": "python",
   "nbconvert_exporter": "python",
   "pygments_lexer": "ipython3",
   "version": "3.9.7"
  }
 },
 "nbformat": 4,
 "nbformat_minor": 5
}
