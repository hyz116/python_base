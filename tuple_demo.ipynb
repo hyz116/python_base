{
 "cells": [
  {
   "cell_type": "code",
   "execution_count": 4,
   "id": "5ff4da3a-a8a5-4e15-95e1-dfc36972329a",
   "metadata": {},
   "outputs": [
    {
     "data": {
      "text/plain": [
       "2"
      ]
     },
     "execution_count": 4,
     "metadata": {},
     "output_type": "execute_result"
    }
   ],
   "source": [
    "# 创建一个元组\n",
    "tup = ('json', 1024)\n",
    "# 元组是静态态\n",
    "# tup[1] = 2048\n",
    "tup\n",
    "# 创建一个新的元组，并依次填充原元组的值\n",
    "new_tup = tup + (2048,)\n",
    "new_tup[-2]\n",
    "# 切片操作，返回元组中索引从1到2的子元组\n",
    "new_tup[1:3]\n",
    "# 嵌套操作\n",
    "#new_tup = ((1,2),('hello', 'world'))\n",
    "new_tup\n",
    "# 内置函数：count(e)-统计指定元素出现次数\n",
    "new_tup.count(1024)\n",
    "# 内置函数：index(e)-返回元素e第一次出现的索引\n",
    "new_tup.index(2048)"
   ]
  },
  {
   "cell_type": "code",
   "execution_count": null,
   "id": "c82140d4-6b29-47ce-837e-0e8bddbd4c6b",
   "metadata": {},
   "outputs": [],
   "source": []
  }
 ],
 "metadata": {
  "kernelspec": {
   "display_name": "Python 3 (ipykernel)",
   "language": "python",
   "name": "python3"
  },
  "language_info": {
   "codemirror_mode": {
    "name": "ipython",
    "version": 3
   },
   "file_extension": ".py",
   "mimetype": "text/x-python",
   "name": "python",
   "nbconvert_exporter": "python",
   "pygments_lexer": "ipython3",
   "version": "3.9.7"
  }
 },
 "nbformat": 4,
 "nbformat_minor": 5
}
