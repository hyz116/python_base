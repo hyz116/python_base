{
 "cells": [
  {
   "cell_type": "code",
   "execution_count": 3,
   "id": "ff90f167",
   "metadata": {},
   "outputs": [
    {
     "data": {
      "text/plain": [
       "True"
      ]
     },
     "execution_count": 3,
     "metadata": {},
     "output_type": "execute_result"
    }
   ],
   "source": [
    "## 集合创建\n",
    "s1 = {1, 2, 3}\n",
    "s2 = set([1, 2, 3])\n",
    "s1 == s2"
   ]
  },
  {
   "cell_type": "code",
   "execution_count": 6,
   "id": "9688596f",
   "metadata": {},
   "outputs": [
    {
     "data": {
      "text/plain": [
       "False"
      ]
     },
     "execution_count": 6,
     "metadata": {},
     "output_type": "execute_result"
    }
   ],
   "source": [
    "## 集合访问\n",
    "s = {'chye', 30, '杭州', 'python'}\n",
    "#不支持索引操作，集合本质上是一个哈希表，和列表不一样\n",
    "#s[0]\n",
    "# 判断一个元素是否在集合或者字典内，使用 value in dict/set 来判断\n",
    "'杭州' in s"
   ]
  },
  {
   "cell_type": "code",
   "execution_count": 10,
   "id": "b5979f80",
   "metadata": {},
   "outputs": [
    {
     "data": {
      "text/plain": [
       "{'chuye', 'python', '篮球'}"
      ]
     },
     "execution_count": 10,
     "metadata": {},
     "output_type": "execute_result"
    }
   ],
   "source": [
    "## 集合增、删、更新操作\n",
    "s = {'chuye', 30, '杭州', 'python'}\n",
    "# 增加元素\n",
    "s.add('篮球')\n",
    "# 从集合中删除元素\n",
    "s.remove(30)\n",
    "# 删除最后一个元素\n",
    "s.pop()\n",
    "s\n"
   ]
  },
  {
   "cell_type": "code",
   "execution_count": 11,
   "id": "39d70362",
   "metadata": {},
   "outputs": [
    {
     "data": {
      "text/plain": [
       "[1, 3, 4, 8, 10]"
      ]
     },
     "execution_count": 11,
     "metadata": {},
     "output_type": "execute_result"
    }
   ],
   "source": [
    "## 集合排序\n",
    "s = {8, 3, 4, 10, 1}\n",
    "# 对集合元素进行升序排序，返回一个列表\n",
    "sorted(s)"
   ]
  },
  {
   "cell_type": "code",
   "execution_count": null,
   "id": "873c2cc8",
   "metadata": {},
   "outputs": [],
   "source": []
  }
 ],
 "metadata": {
  "kernelspec": {
   "display_name": "Python 3 (ipykernel)",
   "language": "python",
   "name": "python3"
  },
  "language_info": {
   "codemirror_mode": {
    "name": "ipython",
    "version": 3
   },
   "file_extension": ".py",
   "mimetype": "text/x-python",
   "name": "python",
   "nbconvert_exporter": "python",
   "pygments_lexer": "ipython3",
   "version": "3.9.7"
  }
 },
 "nbformat": 4,
 "nbformat_minor": 5
}
