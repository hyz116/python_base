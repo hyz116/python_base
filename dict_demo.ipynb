{
 "cells": [
  {
   "cell_type": "code",
   "execution_count": 7,
   "id": "b2e32ff7",
   "metadata": {},
   "outputs": [
    {
     "data": {
      "text/plain": [
       "True"
      ]
     },
     "execution_count": 7,
     "metadata": {},
     "output_type": "execute_result"
    }
   ],
   "source": [
    "# 字典创建\n",
    "d1 = {'name':'chuye', 'age':30, 'address':'杭州'}\n",
    "d2 = dict({'name':'chuye', 'age':30, 'address':'杭州'})\n",
    "## 形式类似于列表+元组\n",
    "d3 = dict([('name', 'chuye'),('age',30),('address','杭州')])\n",
    "d4 = dict(name='chuye', age=30, address='杭州')\n",
    "d1 == d2 == d3 == d4\n",
    "## 字典的创建无论是key还是value都可以是混合类型"
   ]
  },
  {
   "cell_type": "code",
   "execution_count": 13,
   "id": "c26a3f1b",
   "metadata": {},
   "outputs": [
    {
     "data": {
      "text/plain": [
       "True"
      ]
     },
     "execution_count": 13,
     "metadata": {},
     "output_type": "execute_result"
    }
   ],
   "source": [
    "# 字典访问\n",
    "d = {'name':'楚夜', 'age':30, 'address':'杭州'}\n",
    "## 访问name属性的值\n",
    "d['name']\n",
    "## 访问不存在的属性, 抛出异常\n",
    "# d['gender']\n",
    "## 使用 get(key, default)函数来进行访问\n",
    "d.get('gender', 'male')\n",
    "# 判断一个元素是否在集合或者字典内，使用 value in dict/set 来判断\n",
    "'address' in d"
   ]
  },
  {
   "cell_type": "code",
   "execution_count": 16,
   "id": "83e60899",
   "metadata": {},
   "outputs": [
    {
     "data": {
      "text/plain": [
       "{'name': '楚夜', 'age': 18, 'gender': 'male'}"
      ]
     },
     "execution_count": 16,
     "metadata": {},
     "output_type": "execute_result"
    }
   ],
   "source": [
    "## 字典增、删、更新操作\n",
    "d = {'name':'楚夜', 'age':30, 'address':'杭州'}\n",
    "# 增加元素\n",
    "d['gender'] = 'male' # 新增元素\n",
    "\n",
    "# 更新\n",
    "d['age'] = 18\n",
    "d\n",
    "# 删除\n",
    "d.pop('address')\n",
    "d"
   ]
  },
  {
   "cell_type": "code",
   "execution_count": 18,
   "id": "ea17f1dc",
   "metadata": {},
   "outputs": [
    {
     "data": {
      "text/plain": [
       "[('b', 1), ('a', 2), ('c', 10)]"
      ]
     },
     "execution_count": 18,
     "metadata": {},
     "output_type": "execute_result"
    }
   ],
   "source": [
    "## 字典排序\n",
    "d = {'b':1, 'a':2, 'c': 10}\n",
    "## 按照key升序排序\n",
    "d_sorted_by_key = sorted(d.items(), key = lambda x: x[0])\n",
    "d_sorted_by_key\n",
    "## 按照value升序排序\n",
    "d_sorted_by_value = sorted(d.items(), key = lambda x: x[1])\n",
    "d_sorted_by_value\n",
    "## sorted 返回一个列表，元素为元组类型"
   ]
  },
  {
   "cell_type": "code",
   "execution_count": null,
   "id": "41cf92da",
   "metadata": {},
   "outputs": [],
   "source": []
  }
 ],
 "metadata": {
  "kernelspec": {
   "display_name": "Python 3 (ipykernel)",
   "language": "python",
   "name": "python3"
  },
  "language_info": {
   "codemirror_mode": {
    "name": "ipython",
    "version": 3
   },
   "file_extension": ".py",
   "mimetype": "text/x-python",
   "name": "python",
   "nbconvert_exporter": "python",
   "pygments_lexer": "ipython3",
   "version": "3.9.7"
  }
 },
 "nbformat": 4,
 "nbformat_minor": 5
}
