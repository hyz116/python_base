{
 "cells": [
  {
   "cell_type": "code",
   "execution_count": 1,
   "id": "8c2b7fd0",
   "metadata": {},
   "outputs": [
    {
     "name": "stdout",
     "output_type": "stream",
     "text": [
      "y is 1\n"
     ]
    }
   ],
   "source": [
    "# 条件语句\n",
    "## 简单if 语句\n",
    "## py 中 的if 语句不能使用括号，比如if (condition), 每个条件语句后是冒号\n",
    "x = 1\n",
    "if x < 0:\n",
    "    y = -x\n",
    "else:\n",
    "    y = x\n",
    "print('y is {}'.format(y))"
   ]
  },
  {
   "cell_type": "code",
   "execution_count": 2,
   "id": "e01fa39e",
   "metadata": {},
   "outputs": [
    {
     "name": "stdout",
     "output_type": "stream",
     "text": [
      "green\n"
     ]
    }
   ],
   "source": [
    "# 条件语句\n",
    "## if elif else 语句\n",
    "id = 3\n",
    "if id == 0:\n",
    "    print('read')\n",
    "elif id == 1:\n",
    "    print('yellow')\n",
    "else:\n",
    "    print('green')"
   ]
  },
  {
   "cell_type": "code",
   "execution_count": null,
   "id": "be2e1eca",
   "metadata": {},
   "outputs": [],
   "source": [
    "# 条件语句\n",
    "## 省略判断条件\n",
    "# 数据类型              结果\n",
    "# 字符串                空字符串解析为false,其他为true\n",
    "# Int                  0解析为false,其他为true\n",
    "# list/tuple/dict/set  Iterable为空解析为false,其他为true\n",
    "# Object               None 解析为false,其他解析为true"
   ]
  },
  {
   "cell_type": "code",
   "execution_count": 6,
   "id": "3fe44af0",
   "metadata": {},
   "outputs": [
    {
     "name": "stdout",
     "output_type": "stream",
     "text": [
      "1\n",
      "2\n",
      "3\n",
      "4\n",
      "5\n"
     ]
    }
   ],
   "source": [
    "# 循环\n",
    "## for 循环\n",
    "# 遍历列表，打印其元素\n",
    "l = [1,2,3,4,5]\n",
    "for item in l:\n",
    "    print(item)\n",
    "## Iterable 结构遍历 for item in <iterable>:"
   ]
  },
  {
   "cell_type": "code",
   "execution_count": 3,
   "id": "c465c5de",
   "metadata": {},
   "outputs": [
    {
     "name": "stdout",
     "output_type": "stream",
     "text": [
      "name\n",
      "city\n",
      "age\n",
      "-------------\n",
      "chuye\n",
      "杭州\n",
      "30\n",
      "--------------\n",
      "k is name, value is chuye\n",
      "k is city, value is 杭州\n",
      "k is age, value is 30\n"
     ]
    }
   ],
   "source": [
    "# 循环\n",
    "## 遍历字典，字典本身只有key是可迭代的，如果要遍历其值，使用其内置函数values(),如果要遍历其键值对，使用内置函数items()\n",
    "## 遍历字典的key\n",
    "d = {'name':'chuye','city':'杭州','age':30}\n",
    "for k in d:\n",
    "    print(k)\n",
    "## 遍历字典的value\n",
    "print('-------------')\n",
    "for v in d.values():\n",
    "    print(v)\n",
    "## 遍历字典的键值对\n",
    "print('--------------')\n",
    "for k,v in d.items():\n",
    "    print('k is {}, value is {}'.format(k, v))"
   ]
  },
  {
   "cell_type": "code",
   "execution_count": 12,
   "id": "f61b7520",
   "metadata": {},
   "outputs": [
    {
     "name": "stdout",
     "output_type": "stream",
     "text": [
      "index is 0\n",
      "element is 1\n",
      "index is 1\n",
      "element is 2\n",
      "index is 2\n",
      "element is 3\n",
      "index is 3\n",
      "element is 9\n",
      "index is 4\n",
      "-----\n",
      "index is 0, item is 1\n",
      "index is 1, item is 2\n",
      "index is 2, item is 3\n",
      "index is 3, item is 9\n",
      "index is 4, item is 5\n"
     ]
    }
   ],
   "source": [
    "# 循环\n",
    "## 通过索引来访问元素\n",
    "## range() 函数拿到索引，再去遍历访问元素\n",
    "l = [1, 2, 3,9,5]\n",
    "for i in range(len(l)):\n",
    "    print('index is {}'.format(i))\n",
    "    if i < 4:\n",
    "        print('element is {}'.format(l[i]))\n",
    "\n",
    "print('-----')\n",
    "## 通过enumerate()来同时访问索引和元素\n",
    "for index, item in enumerate(l):\n",
    "    print('index is {}, item is {}'.format(index, item))"
   ]
  },
  {
   "cell_type": "code",
   "execution_count": 14,
   "id": "7972cc43",
   "metadata": {},
   "outputs": [
    {
     "name": "stdout",
     "output_type": "stream",
     "text": [
      "1\n",
      "2\n",
      "9\n",
      "item == 4, continue\n",
      "5\n",
      "10\n",
      "item == 99, break\n"
     ]
    }
   ],
   "source": [
    "## 循环 continue, break 语句\n",
    "l = [1, 2, 9, 4, 5, 10, 99, 100]\n",
    "for item in l:\n",
    "    if item == 4:\n",
    "        print('item == 4, continue')\n",
    "        continue\n",
    "    elif item ==99:\n",
    "        print('item == 99, break')\n",
    "        break\n",
    "    else:\n",
    "        print(item)"
   ]
  },
  {
   "cell_type": "code",
   "execution_count": null,
   "id": "3f3c9b01",
   "metadata": {},
   "outputs": [],
   "source": [
    "# 如果只是遍历已知的集合，找出满足条件的元素，并进行相应的操作，那么使用for循环\n",
    "# 如果需要在满足某个条件之前，需要不停的重复某个动作，并且没有特定的集合去遍历，那么一般使用while循环"
   ]
  },
  {
   "cell_type": "code",
   "execution_count": 18,
   "id": "0c91fd9d",
   "metadata": {},
   "outputs": [
    {
     "name": "stdout",
     "output_type": "stream",
     "text": [
      "[7, 11, 13, 9, 23]\n",
      "-------\n",
      "['Today', 'Sunday']\n"
     ]
    }
   ],
   "source": [
    "## 条件与循环复用\n",
    "## 格式 expression1 if condition else expression2 for item in iterable\n",
    "## 等价于\n",
    "#for item in iterable:\n",
    "#    if condition:\n",
    "#        expression1\n",
    "#    else:\n",
    "#        expression2\n",
    "\n",
    "# 如果没有else 语句，写成 expression for item in iterable if condition\n",
    "# 给定一组x坐标，按 y = 2*|x|+5 计算\n",
    "l=[1, 3, -4, -2, 9]\n",
    "y = [value * 2 + 5 if value > 0 else -value * 2 + 5 for value in l]\n",
    "print(y)\n",
    "\n",
    "print('-------')\n",
    "# 读取一行文本，按逗号分隔，去掉首位字符串空格，并过滤长度小于等于3的单词，最后返回由单词组成的列表\n",
    "text = ' Today, is, Sunday';\n",
    "text_list = [t.strip() for t in text.split(',') if len(t.strip()) > 3]\n",
    "print(text_list)\n"
   ]
  },
  {
   "cell_type": "code",
   "execution_count": 23,
   "id": "6c70b30b",
   "metadata": {},
   "outputs": [
    {
     "name": "stdout",
     "output_type": "stream",
     "text": [
      "[{'name': 'jason', 'dob': '2000-01-01', 'gender': 'male'}, {'name': 'mike', 'dob': '1999-01-01', 'gender': 'male'}, {'name': 'nancy', 'dob': '2001-02-01', 'gender': 'female'}]\n",
      "----\n",
      "[{'name': 'jason', 'dob': '2000-01-01', 'gender': 'male'}, {'name': 'mike', 'dob': '1999-01-01', 'gender': 'male'}, {'name': 'nancy', 'dob': '2001-02-01', 'gender': 'female'}]\n"
     ]
    }
   ],
   "source": [
    "# 思考题\n",
    "# 给定下面两个列表 attributes 和 values，要求针对 values 中每一组子列表 value，输出其和 attributes 中的键对应后的字典，最后返回字典组成的列表\n",
    "attributes = ['name', 'dob', 'gender']\n",
    "values = [['jason', '2000-01-01', 'male'], ['mike', '1999-01-01', 'male'],['nancy', '2001-02-01', 'female']]\n",
    "## 按常规解法\n",
    "l = [];\n",
    "for value in values:\n",
    "    # 声明一个字典\n",
    "    d = {}\n",
    "    for i in range(len(value)):\n",
    "        d[attributes[i]] = value[i]\n",
    "        # 将字典追加到列表中\n",
    "    l.append(d)\n",
    "print(l)\n",
    "print('----')\n",
    "# 解法2\n",
    "l_2 = [{attributes[i]: value[i] for i in range(len(value))} for value in values]\n",
    "print(l_2)     "
   ]
  },
  {
   "cell_type": "code",
   "execution_count": null,
   "id": "12889432",
   "metadata": {},
   "outputs": [],
   "source": []
  }
 ],
 "metadata": {
  "kernelspec": {
   "display_name": "Python 3 (ipykernel)",
   "language": "python",
   "name": "python3"
  },
  "language_info": {
   "codemirror_mode": {
    "name": "ipython",
    "version": 3
   },
   "file_extension": ".py",
   "mimetype": "text/x-python",
   "name": "python",
   "nbconvert_exporter": "python",
   "pygments_lexer": "ipython3",
   "version": "3.9.7"
  }
 },
 "nbformat": 4,
 "nbformat_minor": 5
}
