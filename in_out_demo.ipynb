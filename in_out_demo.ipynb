{
 "cells": [
  {
   "cell_type": "code",
   "execution_count": 2,
   "id": "0f3890f0",
   "metadata": {},
   "outputs": [
    {
     "name": "stdout",
     "output_type": "stream",
     "text": [
      "your name:chuye\n",
      "you are a boy?(y/n)y\n",
      "authorizing...\n",
      "Welcome to the matrix Mr. chuye.\n"
     ]
    }
   ],
   "source": [
    "# 基本输入与输出\n",
    "name = input('your name:')\n",
    "gender = input('you are a boy?(y/n)')\n",
    "# print(name)\n",
    "# print(gender)\n",
    "welcome_str = 'Welcome to the matrix {prefix} {name}.'\n",
    "welcome_dict = {\n",
    "    'prefix': 'Mr.' if gender == 'y' else 'Mrs',\n",
    "    'name': name\n",
    "}\n",
    "print('authorizing...')\n",
    "print(welcome_str.format(**welcome_dict))\n",
    "## input 函数暂停程序运行，同时等待键盘输入，直到回车被按下，输入类型永远是字符串\n",
    "## print 函数可以接受字符串、数字、字典、列表甚至一些自定义类的输出"
   ]
  },
  {
   "cell_type": "code",
   "execution_count": 5,
   "id": "8ed81677",
   "metadata": {},
   "outputs": [
    {
     "name": "stdout",
     "output_type": "stream",
     "text": [
      "1\n",
      "4\n",
      "a + b = 14\n",
      "type of a is <class 'str'>, type of b is <class 'str'>\n",
      "a + b = 5\n"
     ]
    }
   ],
   "source": [
    "a = input()\n",
    "b = input()\n",
    "print('a + b = {}'.format(a + b))\n",
    "print('type of a is {}, type of b is {}'.format(type(a), type(b)))\n",
    "print('a + b = {}'.format(int(a) + int(b)))\n",
    "## 把str强转为int 用int(), 转为浮点数用float(), 在生产环境中需要加上try exception"
   ]
  },
  {
   "cell_type": "code",
   "execution_count": 6,
   "id": "b603f8b0",
   "metadata": {},
   "outputs": [],
   "source": [
    "## 文件输入&输出\n",
    "import re\n",
    "def parse(text):\n",
    "    # 使用正则表达式去除标点符号和换行符\n",
    "    text = re.sub(r'[^\\w]',' ', text)\n",
    "    \n",
    "    # 转为小写\n",
    "    text = text.lower()\n",
    "    \n",
    "    # 生成所有单词列表\n",
    "    word_list = text.split(' ')\n",
    "    \n",
    "    # 去除空白单词\n",
    "    word_list = filter(None, word_list)\n",
    "    \n",
    "    # 生成单词和词频的字典\n",
    "    word_cnt = {}\n",
    "    for word in word_list:\n",
    "        if word not in word_cnt:\n",
    "            word_cnt[word] = 0\n",
    "        word_cnt[word] += 1\n",
    "    \n",
    "    # 按照词频排序\n",
    "    sorted_word_cnt = sorted(word_cnt.items(), key = lambda kv: kv[1], reverse=True)\n",
    "    \n",
    "    return sorted_word_cnt\n",
    "\n",
    "# 读入文件\n",
    "# 使用with语句，不需要显示的调用close函数来关闭文件\n",
    "with open('simple.txt', 'r') as fin:\n",
    "    text = fin.read() # 文件不会太大\n",
    "\n",
    "word_and_freq = parse(text)\n",
    "\n",
    "# 写入文件\n",
    "with open('out.txt', 'w') as fout:\n",
    "    for word, freq in word_and_freq:\n",
    "        fout.write('{} {}\\n'.format(word, freq))\n",
    "        \n",
    "# 所有的I/O操作都应该进行错误处理。\n"
   ]
  },
  {
   "cell_type": "code",
   "execution_count": 10,
   "id": "b0f01eae",
   "metadata": {},
   "outputs": [
    {
     "name": "stdout",
     "output_type": "stream",
     "text": [
      "after json serialization\n",
      "\n",
      "type of params_str = <class 'str'>, params_str = {\"symbol\": \"123456\", \"type\": \"limit\", \"price\": 123.4, \"amount\": 23}\n",
      "after json deserialization\n",
      "\n",
      "type of original_params = <class 'dict'>, original_params = {'symbol': '123456', 'type': 'limit', 'price': 123.4, 'amount': 23}\n"
     ]
    }
   ],
   "source": [
    "# JSON 序列化与反序列化\n",
    "import json\n",
    "\n",
    "# 定义一个字典\n",
    "params = {\n",
    "    'symbol':'123456',\n",
    "    'type':'limit',\n",
    "    'price':123.4,\n",
    "    'amount':23\n",
    "}\n",
    "\n",
    "# 序列化为JSON格式字符串\n",
    "# json.dumps 接受py 基本数据类型，然后将其序列化为string\n",
    "params_str = json.dumps(params)\n",
    "print('after json serialization\\n')\n",
    "print('type of params_str = {}, params_str = {}'.format(type(params_str), params_str))\n",
    "\n",
    "## json.loads() 接收一个合法的字符串，然后反序列化为py基本数据类型\n",
    "print('after json deserialization\\n')\n",
    "original_params = json.loads(params_str)\n",
    "print('type of original_params = {}, original_params = {}'.format(type(original_params), original_params))\n",
    "\n"
   ]
  },
  {
   "cell_type": "code",
   "execution_count": 12,
   "id": "6c3151f9",
   "metadata": {},
   "outputs": [
    {
     "name": "stdout",
     "output_type": "stream",
     "text": [
      "after json deserialization\n",
      "type of original_params = <class 'dict'>, original_params = {'symbol': '123456', 'type': 'limit', 'price': 123.4, 'amount': 23}\n"
     ]
    }
   ],
   "source": [
    "## 文件读写&JSON\n",
    "import json\n",
    "## 定义一个字典\n",
    "params = {\n",
    "    'symbol':'123456',\n",
    "    'type':'limit',\n",
    "    'price':123.4,\n",
    "    'amount':23\n",
    "}\n",
    "## 将以上字典中的数据写入到文件中\n",
    "## 注意json.dump ， json.dumps 以及 json.load, json.loads\n",
    "with open('params.json', 'w') as fout:\n",
    "    params_str = json.dump(params, fout)\n",
    "## 读取文件 'params.josn'中的内容\n",
    "with open('params.json', 'r') as fin:\n",
    "    original_params = json.load(fin)\n",
    "print('after json deserialization')\n",
    "print('type of original_params = {}, original_params = {}'.format(type(original_params), original_params))"
   ]
  },
  {
   "cell_type": "code",
   "execution_count": null,
   "id": "99049343",
   "metadata": {},
   "outputs": [],
   "source": []
  }
 ],
 "metadata": {
  "kernelspec": {
   "display_name": "Python 3 (ipykernel)",
   "language": "python",
   "name": "python3"
  },
  "language_info": {
   "codemirror_mode": {
    "name": "ipython",
    "version": 3
   },
   "file_extension": ".py",
   "mimetype": "text/x-python",
   "name": "python",
   "nbconvert_exporter": "python",
   "pygments_lexer": "ipython3",
   "version": "3.9.7"
  }
 },
 "nbformat": 4,
 "nbformat_minor": 5
}
