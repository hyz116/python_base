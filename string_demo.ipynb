{
 "cells": [
  {
   "cell_type": "code",
   "execution_count": 4,
   "id": "a3d8c43e",
   "metadata": {},
   "outputs": [
    {
     "data": {
      "text/plain": [
       "'This is a text'"
      ]
     },
     "execution_count": 4,
     "metadata": {},
     "output_type": "execute_result"
    }
   ],
   "source": [
    "## 字符串声明\n",
    "name = 'chuye' #单引号\n",
    "city = '杭州'\n",
    "text = \"welcome to hangzhou\" #双引号，主要应用于字符串中含有引号，比如\"I'm a student\"\n",
    "## 三引号, 主要用于多行字符串\n",
    "text2 = \"\"\"This is a text\"\"\" \n",
    "text2 "
   ]
  },
  {
   "cell_type": "code",
   "execution_count": 20,
   "id": "5f5ab6fa",
   "metadata": {},
   "outputs": [
    {
     "name": "stdout",
     "output_type": "stream",
     "text": [
      "a\n",
      "b\tc\n"
     ]
    }
   ],
   "source": [
    "## 转义字符\n",
    "# \\newline 接下一行\n",
    "## \\\\ 表示\\\\\n",
    "## \\' 表示单引号\n",
    "## \\\" 表示双引号\n",
    "## \\n 换行\n",
    "## \\t 横向制表符\n",
    "## \\b 退格\n",
    "## \\v 纵向制表符\n",
    "s = 'a\\nb\\tc'\n",
    "print(s)"
   ]
  },
  {
   "cell_type": "code",
   "execution_count": 24,
   "id": "82f3ce2e",
   "metadata": {},
   "outputs": [
    {
     "data": {
      "text/plain": [
       "['java', 'python', 'sql', 'shell']"
      ]
     },
     "execution_count": 24,
     "metadata": {},
     "output_type": "execute_result"
    }
   ],
   "source": [
    "# 字符串常用操作\n",
    "## 访问\n",
    "name = 'huangyuze'\n",
    "# 访问第0个字符\n",
    "name[0]\n",
    "# 切片操作, 索引从0开始\n",
    "name[1:3]\n",
    "# 遍历字符串\n",
    "# for char in name:\n",
    "#     print(char)\n",
    "\n",
    "# 字符串是不可变的（immutable）\n",
    "# name[0] = 'H' # 报错\n",
    "# 通过创建新字符串来完成\n",
    "# name = 'H' + name[1:] # 方式1\n",
    "name = name.replace('h', 'j') # 方式2\n",
    "name\n",
    "# Java 中有 StringBuilder类型的可变字符串，目前Python中无此特性\n",
    "## 字符串拼接, 新版本的python，+= 无需担心性能问题\n",
    "name += ', hangzhou'\n",
    "name\n",
    "## 使用 join 函数\n",
    "l = []\n",
    "for n in range(0, 100):\n",
    "    l.append(str(n))\n",
    "l = ''.join(l)  \n",
    "l\n",
    "## 字符串分隔\n",
    "str = \"java-python-sql-shell\"\n",
    "# 返回列表\n",
    "str1 = str.split('-')\n",
    "str1"
   ]
  },
  {
   "cell_type": "code",
   "execution_count": 31,
   "id": "8288a85b",
   "metadata": {},
   "outputs": [
    {
     "name": "stdout",
     "output_type": "stream",
     "text": [
      "chuye \n",
      " chuye\n"
     ]
    }
   ],
   "source": [
    "# 字符串其他操作\n",
    "## 去除空格\n",
    "name = ' chuye '\n",
    "## 去除前后空格\n",
    "#print(name.strip())\n",
    "## 去除开头空格\n",
    "print(name.lstrip())\n",
    "## 去除尾部空格\n",
    "print(name.rstrip())"
   ]
  },
  {
   "cell_type": "code",
   "execution_count": 34,
   "id": "27a37c82",
   "metadata": {},
   "outputs": [
    {
     "name": "stdout",
     "output_type": "stream",
     "text": [
      "no data available for person with id: 12, name:chuye\n",
      "no data available for person with id: 12, name: chuye\n"
     ]
    }
   ],
   "source": [
    "# 字符串格式化\n",
    "##方式1:\n",
    "print('no data available for person with id: {}, name:{}'.format(12, 'chuye'))\n",
    "## 方式2:\n",
    "print('no data available for person with id: %d, name: %s' %(12, 'chuye'))"
   ]
  },
  {
   "cell_type": "code",
   "execution_count": null,
   "id": "00f8e1d8",
   "metadata": {},
   "outputs": [],
   "source": []
  }
 ],
 "metadata": {
  "kernelspec": {
   "display_name": "Python 3 (ipykernel)",
   "language": "python",
   "name": "python3"
  },
  "language_info": {
   "codemirror_mode": {
    "name": "ipython",
    "version": 3
   },
   "file_extension": ".py",
   "mimetype": "text/x-python",
   "name": "python",
   "nbconvert_exporter": "python",
   "pygments_lexer": "ipython3",
   "version": "3.9.7"
  }
 },
 "nbformat": 4,
 "nbformat_minor": 5
}
