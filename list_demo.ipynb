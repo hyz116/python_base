{
 "cells": [
  {
   "cell_type": "code",
   "execution_count": 1,
   "id": "56f8a960-f7a1-46de-a38f-2881ec7b35e4",
   "metadata": {},
   "outputs": [
    {
     "data": {
      "text/plain": [
       "<list_reverseiterator at 0x7f9dc486b850>"
      ]
     },
     "execution_count": 1,
     "metadata": {},
     "output_type": "execute_result"
    }
   ],
   "source": [
    "# 创建一个列表,列表中可以含有任意数据类型的元素\n",
    "l = [1,2, 'hello', 'world','2']\n",
    "# 列表是动态的，可以随意增加，索引从0开始\n",
    "l[3] = 50\n",
    "# list assignment index out of range\n",
    "# l[4] = 'python'\n",
    "# 添加元素到列表末尾\n",
    "l.append(6)\n",
    "# 负数索引\n",
    "l[-1]\n",
    "# 切片操作，返回列表中索引从1到2的子列表\n",
    "l[1:3]\n",
    "# 嵌套操作\n",
    "# l = [[1,3],['hello','world']]\n",
    "# 内置函数:count-统计指定元素出现次数\n",
    "l.count(2)\n",
    "# 内置函数：index(e)-返回元素e第一次出现的索引\n",
    "l.index(2)\n",
    "# 内置函数：l.reverse()-原地倒转\n",
    "l.reverse()\n",
    "# 内置函数：l.sort()-原地排序\n",
    "l = [10, 8, 3, 7, 5]\n",
    "l.sort()\n",
    "# 内置函数：reversed(l)-倒转并返回一个迭代器\n",
    "reversed(l)\n",
    "# 内置函数：sorted(l)- 排序返回新列表\n",
    "# sorted(l)\n"
   ]
  },
  {
   "cell_type": "code",
   "execution_count": 6,
   "id": "5dda3e54-fa6f-41cd-9116-c1fad3c894b0",
   "metadata": {},
   "outputs": [
    {
     "name": "stdout",
     "output_type": "stream",
     "text": [
      "['a', 'b', 'c']\n",
      "[1, 2, 3]\n",
      "[]\n",
      "[]\n"
     ]
    }
   ],
   "source": [
    "## 构造函数\n",
    "l_a = list('abc')\n",
    "print(l_a)\n",
    "l_b = list((1,2,3))\n",
    "print(l_b)\n",
    "\n",
    "## empty list\n",
    "l_c = list()\n",
    "print(l_c)\n",
    "l_d = []\n",
    "print(l_d)"
   ]
  },
  {
   "cell_type": "code",
   "execution_count": 13,
   "id": "16e3dd60-2962-4499-a317-0fabc8884a99",
   "metadata": {},
   "outputs": [
    {
     "name": "stdout",
     "output_type": "stream",
     "text": [
      "[8, 2, 1, 9, 5]\n",
      "[1, 2, 5, 8, 9]\n",
      "['C', 'b', 'D', 'a']\n"
     ]
    }
   ],
   "source": [
    "## 排序\n",
    "l_a = [8,2,1,9,5]\n",
    "print(l_a)\n",
    "l_a.sort()\n",
    "print(l_a)\n",
    "\n",
    "l_b = list('CbDa')\n",
    "print(l_b)\n",
    "## 按小写字母排序"
   ]
  },
  {
   "cell_type": "code",
   "execution_count": null,
   "id": "a7c6d891",
   "metadata": {},
   "outputs": [],
   "source": []
  }
 ],
 "metadata": {
  "kernelspec": {
   "display_name": "Python 3 (ipykernel)",
   "language": "python",
   "name": "python3"
  },
  "language_info": {
   "codemirror_mode": {
    "name": "ipython",
    "version": 3
   },
   "file_extension": ".py",
   "mimetype": "text/x-python",
   "name": "python",
   "nbconvert_exporter": "python",
   "pygments_lexer": "ipython3",
   "version": "3.9.7"
  }
 },
 "nbformat": 4,
 "nbformat_minor": 5
}
