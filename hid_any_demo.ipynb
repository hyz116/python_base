{
 "cells": [
  {
   "cell_type": "code",
   "execution_count": 62,
   "id": "a887483d",
   "metadata": {},
   "outputs": [
    {
     "name": "stdout",
     "output_type": "stream",
     "text": [
      "\n",
      "1767204883798:\"当前商品为支付宝318大促商品,只能设置为不可退\";\n",
      "\n",
      "3444588094798:\"当前商品为支付宝318大促商品,只能设置为不可退\";\n",
      "\n",
      "\n",
      "1753195300798:\"当前商品为支付宝318大促商品,只能设置为不可退\";1753195300798:\"当前商品为支付宝318大促商品,只能设置为不可退\";\n",
      "\n",
      "3119062056798:\"当前商品为支付宝318大促商品,只能设置为不可退\";\n",
      "\n",
      "2062114879798:\"当前商品为支付宝318大促商品,只能设置为不可退\";\n",
      "\n",
      "\n",
      "\n",
      "\n",
      "\n",
      "\n",
      "\n",
      "\n",
      "3074310327798:\"卖家酒店打标153092，酒店已失效, 请联系小二处理\";3074352288798:\"卖家酒店打标153092，酒店已失效, 请联系小二处理\";3074334311798:\"卖家酒店打标153092，酒店已失效, 请联系小二处理\";3074477337798:\"卖家酒店打标153092，酒店已失效, 请联系小二处理\";3074333311798:\"卖家酒店打标153092，酒店已失效, 请联系小二处理\";3074477335798:\"卖家酒店打标153092，酒店已失效, 请联系小二处理\";3074327315798:\"卖家酒店打标153092，酒店已失效, 请联系小二处理\";3074334312798:\"卖家酒店打标153092，酒店已失效, 请联系小二处理\";\n"
     ]
    },
    {
     "ename": "SyntaxError",
     "evalue": "EOL while scanning string literal (<string>, line 1)",
     "output_type": "error",
     "traceback": [
      "Traceback \u001b[0;36m(most recent call last)\u001b[0m:\n",
      "  File \u001b[1;32m\"/usr/local/anaconda3/lib/python3.9/site-packages/IPython/core/interactiveshell.py\"\u001b[0m, line \u001b[1;32m3444\u001b[0m, in \u001b[1;35mrun_code\u001b[0m\n    exec(code_obj, self.user_global_ns, self.user_ns)\n",
      "\u001b[0;36m  File \u001b[0;32m\"/var/folders/sw/p2f4633d73xftgv40dkszqd40000gp/T/ipykernel_73722/3470921766.py\"\u001b[0;36m, line \u001b[0;32m32\u001b[0;36m, in \u001b[0;35m<module>\u001b[0;36m\u001b[0m\n\u001b[0;31m    end_str = eval(\"'{}'\".format(error_msg))\u001b[0m\n",
      "\u001b[0;36m  File \u001b[0;32m\"<string>\"\u001b[0;36m, line \u001b[0;32m1\u001b[0m\n\u001b[0;31m    '{\\\"msg\\\":\\\"[RP_ONLINE] Retry faild, retry num:[3],hid:[340528199798],rpId:[3983421854798]RPOnline failed, hid:340528199798,RatePlanId=3983421854798, errorInfo:{\\\\\"code\\\\\":-181,\\\\\"context\\\\\":{},\\\\\"errors\\\\\":[],\\\\\"msg\\\\\":\\\\\"当前RatePlan不允许被修改\\\\\",\\\\\"success\\\\\":false,\\\\\"value\\\\\":0}\\\",\\\"hid\\\":340528199798,\\\"rpId\\\":3983421854798}\"\u001b[0m\n\u001b[0m                                                                                                                                                                                                                                                                                                                                         ^\u001b[0m\n\u001b[0;31mSyntaxError\u001b[0m\u001b[0;31m:\u001b[0m EOL while scanning string literal\n"
     ]
    }
   ],
   "source": [
    "## 失败数据解析\n",
    "import json\n",
    "## 判断是否为合法的json格式\n",
    "def is_json(myjson):\n",
    "    try:\n",
    "        json.loads(myjson)\n",
    "    except ValueError:\n",
    "        return False\n",
    "    return True\n",
    "\n",
    "## 打开本地文件，格式 hid,rpids,msg\n",
    "with open('/Users/chuye/Desktop/失败hid.txt', 'r') as fin:\n",
    "    lines = fin.readlines()\n",
    "## 遍历lines\n",
    "hid_dict = {}\n",
    "for line in lines:\n",
    "    # 按逗号分隔 hid, rpids, msg\n",
    "    sub_str_list = line.split('||')\n",
    "    # 放到字典中\n",
    "    hid_dict['hid'] = sub_str_list[0]\n",
    "    hid_dict['rpIds'] = sub_str_list[1]\n",
    "    ## msg，各个rp错误信息以分号分隔\n",
    "    rp_error_msgs = sub_str_list[2]\n",
    "#     print(rp_error_msgs)\n",
    "    rp_error_msg_list = rp_error_msgs.split(';')\n",
    "    error_ = '';\n",
    "    for error_msg in rp_error_msg_list:\n",
    "        if error_msg.startswith('RP online'):\n",
    "            print()\n",
    "        else:\n",
    "            # 去除转义字符\n",
    "            end_str = eval(\"'{}'\".format(error_msg))\n",
    "            end_json = json.loads(end_str)\n",
    "#             print(end_json)\n",
    "            rp_str = end_json['msg'][end_json['msg'].rfind(',RatePlanId=')+12:end_json['msg'].rfind(', errorInfo:')] + ':' +end_json['msg'][end_json['msg'].rfind('\"msg\":')+6:end_json['msg'].rfind(',\"success\"')]\n",
    "#             print(rp_str)\n",
    "            error_ += rp_str + ';'\n",
    "#             print(end_json['msg'][end_json['msg'].rfind(',RatePlanId=')+12:end_json['msg'].rfind(', errorInfo:')])\n",
    "#             print(end_json['msg'][end_json['msg'].rfind('\"msg\":')+6:end_json['msg'].rfind(',\"success\"')])\n",
    "#             print(end_json['msg'].rfind('\"msg\":'))\n",
    "#             print(end_json['msg'].rfind(',\"success\"'))\n",
    "            #print(end_json['errorInfo'])\n",
    "    print(error_)    \n",
    "    hid_dict['msg'] =  error_\n",
    "    \n",
    "## 输出字典 "
   ]
  },
  {
   "cell_type": "code",
   "execution_count": null,
   "id": "f33e393a",
   "metadata": {},
   "outputs": [],
   "source": []
  },
  {
   "cell_type": "code",
   "execution_count": null,
   "id": "74a22c7c",
   "metadata": {},
   "outputs": [],
   "source": []
  }
 ],
 "metadata": {
  "kernelspec": {
   "display_name": "Python 3 (ipykernel)",
   "language": "python",
   "name": "python3"
  },
  "language_info": {
   "codemirror_mode": {
    "name": "ipython",
    "version": 3
   },
   "file_extension": ".py",
   "mimetype": "text/x-python",
   "name": "python",
   "nbconvert_exporter": "python",
   "pygments_lexer": "ipython3",
   "version": "3.9.7"
  }
 },
 "nbformat": 4,
 "nbformat_minor": 5
}
