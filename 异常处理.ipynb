{
 "cells": [
  {
   "cell_type": "code",
   "execution_count": 4,
   "id": "06bc25d7",
   "metadata": {},
   "outputs": [
    {
     "ename": "ZeroDivisionError",
     "evalue": "division by zero",
     "output_type": "error",
     "traceback": [
      "\u001b[0;31m---------------------------------------------------------------------------\u001b[0m",
      "\u001b[0;31mZeroDivisionError\u001b[0m                         Traceback (most recent call last)",
      "\u001b[0;32m/var/folders/sw/p2f4633d73xftgv40dkszqd40000gp/T/ipykernel_32966/237295036.py\u001b[0m in \u001b[0;36m<module>\u001b[0;34m\u001b[0m\n\u001b[1;32m      4\u001b[0m \u001b[0;31m#    print('hello world')\u001b[0m\u001b[0;34m\u001b[0m\u001b[0;34m\u001b[0m\u001b[0m\n\u001b[1;32m      5\u001b[0m \u001b[0;31m## 异常\u001b[0m\u001b[0;34m\u001b[0m\u001b[0;34m\u001b[0m\u001b[0m\n\u001b[0;32m----> 6\u001b[0;31m \u001b[0;36m1\u001b[0m \u001b[0;34m/\u001b[0m \u001b[0;36m0\u001b[0m\u001b[0;34m\u001b[0m\u001b[0;34m\u001b[0m\u001b[0m\n\u001b[0m",
      "\u001b[0;31mZeroDivisionError\u001b[0m: division by zero"
     ]
    }
   ],
   "source": [
    "# 程序中的错误包含两种：语法错误与异常\n",
    "## 语法错误\n",
    "#if True\n",
    "#    print('hello world')\n",
    "## 异常\n",
    "#1 / 0\n"
   ]
  },
  {
   "cell_type": "code",
   "execution_count": 7,
   "id": "a0698d7a",
   "metadata": {},
   "outputs": [
    {
     "name": "stdout",
     "output_type": "stream",
     "text": [
      "please enter two numbers separated by comman: 1\n"
     ]
    },
    {
     "ename": "IndexError",
     "evalue": "list index out of range",
     "output_type": "error",
     "traceback": [
      "\u001b[0;31m---------------------------------------------------------------------------\u001b[0m",
      "\u001b[0;31mIndexError\u001b[0m                                Traceback (most recent call last)",
      "\u001b[0;32m/var/folders/sw/p2f4633d73xftgv40dkszqd40000gp/T/ipykernel_32966/2015656680.py\u001b[0m in \u001b[0;36m<module>\u001b[0;34m\u001b[0m\n\u001b[1;32m      3\u001b[0m     \u001b[0ms\u001b[0m \u001b[0;34m=\u001b[0m \u001b[0minput\u001b[0m\u001b[0;34m(\u001b[0m\u001b[0;34m'please enter two numbers separated by comman: '\u001b[0m\u001b[0;34m)\u001b[0m\u001b[0;34m\u001b[0m\u001b[0;34m\u001b[0m\u001b[0m\n\u001b[1;32m      4\u001b[0m     \u001b[0mnum_1\u001b[0m \u001b[0;34m=\u001b[0m \u001b[0mint\u001b[0m\u001b[0;34m(\u001b[0m\u001b[0ms\u001b[0m\u001b[0;34m.\u001b[0m\u001b[0msplit\u001b[0m\u001b[0;34m(\u001b[0m\u001b[0;34m','\u001b[0m\u001b[0;34m)\u001b[0m\u001b[0;34m[\u001b[0m\u001b[0;36m0\u001b[0m\u001b[0;34m]\u001b[0m\u001b[0;34m.\u001b[0m\u001b[0mstrip\u001b[0m\u001b[0;34m(\u001b[0m\u001b[0;34m)\u001b[0m\u001b[0;34m)\u001b[0m\u001b[0;34m\u001b[0m\u001b[0;34m\u001b[0m\u001b[0m\n\u001b[0;32m----> 5\u001b[0;31m     \u001b[0mnum_2\u001b[0m \u001b[0;34m=\u001b[0m \u001b[0mint\u001b[0m\u001b[0;34m(\u001b[0m\u001b[0ms\u001b[0m\u001b[0;34m.\u001b[0m\u001b[0msplit\u001b[0m\u001b[0;34m(\u001b[0m\u001b[0;34m','\u001b[0m\u001b[0;34m)\u001b[0m\u001b[0;34m[\u001b[0m\u001b[0;36m1\u001b[0m\u001b[0;34m]\u001b[0m\u001b[0;34m.\u001b[0m\u001b[0mstrip\u001b[0m\u001b[0;34m(\u001b[0m\u001b[0;34m)\u001b[0m\u001b[0;34m)\u001b[0m\u001b[0;34m\u001b[0m\u001b[0;34m\u001b[0m\u001b[0m\n\u001b[0m\u001b[1;32m      6\u001b[0m \u001b[0;31m## 如果输出是非数字，则会被 except 语句块处理\u001b[0m\u001b[0;34m\u001b[0m\u001b[0;34m\u001b[0m\u001b[0m\n\u001b[1;32m      7\u001b[0m \u001b[0;32mexcept\u001b[0m \u001b[0mValueError\u001b[0m \u001b[0;32mas\u001b[0m \u001b[0merr\u001b[0m\u001b[0;34m:\u001b[0m\u001b[0;34m\u001b[0m\u001b[0;34m\u001b[0m\u001b[0m\n",
      "\u001b[0;31mIndexError\u001b[0m: list index out of range"
     ]
    }
   ],
   "source": [
    "## 明确的异常处理\n",
    "try:\n",
    "    s = input('please enter two numbers separated by comma: ')\n",
    "    num_1 = int(s.split(',')[0].strip())\n",
    "    num_2 = int(s.split(',')[1].strip())\n",
    "## 如果输出是非数字，则会被 except 语句块处理\n",
    "except ValueError as err:\n",
    "    print('Value Error: {}'.format(err))\n",
    "## except 捕获异常后处理后，仍然继续往下执行。如果except 不能处理，则程序会停止执行退出\n",
    "## 如果只输入 1，则不会执行下面的语句，except不会处理IndexError\n",
    "print('continue')"
   ]
  },
  {
   "cell_type": "code",
   "execution_count": 8,
   "id": "ac1d628f",
   "metadata": {},
   "outputs": [
    {
     "name": "stdout",
     "output_type": "stream",
     "text": [
      "please enter two numbers separated by comman: 1\n",
      "Value Error: list index out of range\n",
      "continue\n"
     ]
    }
   ],
   "source": [
    "## 多个异常处理\n",
    "# 方式1，只输入1，观察异常处理\n",
    "try:\n",
    "    s = input('please enter two numbers separated by comma: ')\n",
    "    num_1 = int(s.split(',')[0].strip())\n",
    "    num_2 = int(s.split(',')[1].strip())\n",
    "except (ValueError, IndexError) as err:\n",
    "    print('Value Error: {}'.format(err))\n",
    "print('continue')"
   ]
  },
  {
   "cell_type": "code",
   "execution_count": 9,
   "id": "ff85d363",
   "metadata": {},
   "outputs": [
    {
     "name": "stdout",
     "output_type": "stream",
     "text": [
      "please enter two numbers separated by comman: 1\n",
      "Value Error: list index out of range\n",
      "continue\n"
     ]
    }
   ],
   "source": [
    "## 多个异常处理\n",
    "# 方式2，只输入1，观察异常处理\n",
    "try:\n",
    "    s = input('please enter two numbers separated by comma: ')\n",
    "    num_1 = int(s.split(',')[0].strip())\n",
    "    num_2 = int(s.split(',')[1].strip())\n",
    "except ValueError as err:\n",
    "    print('Value Error: {}'.format(err))\n",
    "except IndexError as err:\n",
    "    print('Value Error: {}'.format(err))\n",
    "print('continue')"
   ]
  },
  {
   "cell_type": "code",
   "execution_count": 10,
   "id": "b8889756",
   "metadata": {},
   "outputs": [
    {
     "name": "stdout",
     "output_type": "stream",
     "text": [
      "please enter two numbers separated by comma: \n",
      "Value Error: invalid literal for int() with base 10: ''\n",
      "continue\n"
     ]
    }
   ],
   "source": [
    "## 异常处理，匹配所有异常\n",
    "# 写法1\n",
    "try:\n",
    "    s = input('please enter two numbers separated by comma: ')\n",
    "    num_1 = int(s.split(',')[0].strip())\n",
    "    num_2 = int(s.split(',')[1].strip())\n",
    "except ValueError as err:\n",
    "    print('Value Error: {}'.format(err))\n",
    "except IndexError as err:\n",
    "    print('value Error: {}'.format(err))\n",
    "except Exception as err:\n",
    "    print('Other error: {}'.format(err))\n",
    "print('continue')\n",
    "\n",
    "## 写法2\n",
    "try:\n",
    "    s = input('please enter two numbers separated by comma: ')\n",
    "    num_1 = int(s.split(',')[0].strip())\n",
    "    num_2 = int(s.split(',')[1].strip())\n",
    "except ValueError as err:\n",
    "    print('Value Error: {}'.format(err))\n",
    "except IndexError as err:\n",
    "    print('value Error: {}'.format(err))\n",
    "except: ## 省略异常类型，与任意异常进行匹配\n",
    "    print('Other error: {}'.format(err))\n",
    "print('continue')"
   ]
  },
  {
   "cell_type": "code",
   "execution_count": 11,
   "id": "b1c7f52e",
   "metadata": {},
   "outputs": [
    {
     "name": "stdout",
     "output_type": "stream",
     "text": [
      "please enter two numbers separated by comma: 1\n",
      "value Error: list index out of range\n",
      "This is finally statement\n"
     ]
    }
   ],
   "source": [
    "# 异常处理，finally语句块\n",
    "try:\n",
    "    s = input('please enter two numbers separated by comma: ')\n",
    "    num_1 = int(s.split(',')[0].strip())\n",
    "    num_2 = int(s.split(',')[1].strip())\n",
    "except ValueError as err:\n",
    "    print('Value Error: {}'.format(err))\n",
    "except IndexError as err:\n",
    "    print('value Error: {}'.format(err))\n",
    "except: ## 省略异常类型，与任意异常进行匹配\n",
    "    print('Other error: {}'.format(err))\n",
    "finally:\n",
    "    print('This is finally statement')"
   ]
  },
  {
   "cell_type": "code",
   "execution_count": 19,
   "id": "5ef94d7d",
   "metadata": {},
   "outputs": [
    {
     "name": "stdout",
     "output_type": "stream",
     "text": [
      "text \n",
      ": and 15\n",
      "be 13\n",
      "will 11\n",
      "to 11\n",
      "the 10\n",
      "of 10\n",
      "a 8\n",
      "we 8\n",
      "day 6\n",
      "able 6\n",
      "every 6\n",
      "together 6\n",
      "i 5\n",
      "have 5\n",
      "dream 5\n",
      "that 5\n",
      "one 5\n",
      "with 5\n",
      "this 5\n",
      "in 4\n",
      "shall 4\n",
      "free 4\n",
      "when 4\n",
      "little 3\n",
      "black 3\n",
      "white 3\n",
      "made 3\n",
      "faith 3\n",
      "at 3\n",
      "last 3\n",
      "children 2\n",
      "nation 2\n",
      "by 2\n",
      "their 2\n",
      "today 2\n",
      "alabama 2\n",
      "boys 2\n",
      "girls 2\n",
      "join 2\n",
      "hands 2\n",
      "mountain 2\n",
      "places 2\n",
      "all 2\n",
      "it 2\n",
      "our 2\n",
      "hope 2\n",
      "up 2\n",
      "freedom 2\n",
      "ring 2\n",
      "from 2\n",
      "god 2\n",
      "men 2\n",
      "my 1\n",
      "four 1\n",
      "live 1\n",
      "where 1\n",
      "they 1\n",
      "not 1\n",
      "judged 1\n",
      "color 1\n",
      "skin 1\n",
      "but 1\n",
      "content 1\n",
      "character 1\n",
      "down 1\n",
      "its 1\n",
      "vicious 1\n",
      "racists 1\n",
      "right 1\n",
      "there 1\n",
      "as 1\n",
      "sisters 1\n",
      "brothers 1\n",
      "valley 1\n",
      "exalted 1\n",
      "hill 1\n",
      "low 1\n",
      "rough 1\n",
      "plain 1\n",
      "crooked 1\n",
      "straight 1\n",
      "glory 1\n",
      "lord 1\n",
      "revealed 1\n",
      "flesh 1\n",
      "see 1\n",
      "is 1\n",
      "hew 1\n",
      "out 1\n",
      "despair 1\n",
      "stone 1\n",
      "transform 1\n",
      "jangling 1\n",
      "discords 1\n",
      "into 1\n",
      "beautiful 1\n",
      "symphony 1\n",
      "brotherhood 1\n",
      "work 1\n",
      "pray 1\n",
      "struggle 1\n",
      "go 1\n",
      "jail 1\n",
      "stand 1\n",
      "for 1\n",
      "knowing 1\n",
      "happens 1\n",
      "allow 1\n",
      "let 1\n",
      "village 1\n",
      "hamlet 1\n",
      "state 1\n",
      "city 1\n",
      "speed 1\n",
      "s 1\n",
      "jews 1\n",
      "gentiles 1\n",
      "protestants 1\n",
      "catholics 1\n",
      "sing 1\n",
      "words 1\n",
      "old 1\n",
      "negro 1\n",
      "spiritual 1\n",
      "thank 1\n",
      "almighty 1\n",
      "are 1\n",
      "\n",
      "Close the file stream\n"
     ]
    }
   ],
   "source": [
    "## 文件读取\n",
    "import sys\n",
    "f = None\n",
    "try:\n",
    "    f = open('./out.txt', 'r')\n",
    "    text = f.read()\n",
    "    print('text \\n: {}'.format(text))\n",
    "except OSError as err:\n",
    "    print('OS error: {}'.format(err))\n",
    "except:\n",
    "    print('Unexception error:', sys.exc_info()[0])\n",
    "finally:\n",
    "    ## 关闭文件\n",
    "    print('Close the file stream')\n",
    "    f.close()\n",
    "# 使用 with 语句 更简洁"
   ]
  },
  {
   "cell_type": "code",
   "execution_count": 23,
   "id": "06f4c514",
   "metadata": {},
   "outputs": [
    {
     "name": "stdout",
     "output_type": "stream",
     "text": [
      "error: 'init' is invalid input\n"
     ]
    }
   ],
   "source": [
    "## 自定义异常\n",
    "class MyInputError(Exception):\n",
    "    value = 'init'\n",
    "    \"\"\"Exception raised when there`re errors in input\"\"\"\n",
    "    ## 自定义异常类型的初始化\n",
    "    def __int__(self, value):\n",
    "        self.value = value\n",
    "    ## 自定义异常类型的string 表达式\n",
    "    def __str__(self):\n",
    "        return ('{} is invalid input'.format(repr(self.value)))\n",
    "\n",
    "## 使用自定义异常\n",
    "try:\n",
    "    ## 主动抛出异常\n",
    "    raise MyInputError(1)\n",
    "except MyInputError as err:\n",
    "    print('error: {}'.format(err))"
   ]
  },
  {
   "cell_type": "code",
   "execution_count": null,
   "id": "e9853172",
   "metadata": {},
   "outputs": [],
   "source": []
  }
 ],
 "metadata": {
  "kernelspec": {
   "display_name": "Python 3 (ipykernel)",
   "language": "python",
   "name": "python3"
  },
  "language_info": {
   "codemirror_mode": {
    "name": "ipython",
    "version": 3
   },
   "file_extension": ".py",
   "mimetype": "text/x-python",
   "name": "python",
   "nbconvert_exporter": "python",
   "pygments_lexer": "ipython3",
   "version": "3.9.7"
  }
 },
 "nbformat": 4,
 "nbformat_minor": 5
}
