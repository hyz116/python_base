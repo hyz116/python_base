{
 "cells": [
  {
   "cell_type": "code",
   "execution_count": 31,
   "id": "b79a65b3",
   "metadata": {},
   "outputs": [
    {
     "name": "stdout",
     "output_type": "stream",
     "text": [
      "4\n",
      "4\n",
      "[(2, -1), (3, 0), (9, 10), (1, 20)]\n"
     ]
    }
   ],
   "source": [
    "## 正确的使用匿名函数，能使得我们的代码更加简洁和易读\n",
    "## 匿名函数的格式：lambda arg1,arg2,...argN : expression\n",
    "square = lambda x: x**2\n",
    "print(square(2))\n",
    "\n",
    "## 使用常规函数来表示\n",
    "def square_a(x):\n",
    "    return x**2\n",
    "\n",
    "print(square_a(2))\n",
    "\n",
    "## lambda 是一个表达式，并不是一个语句。所谓表达式就是使用一系列的公式去表达一个东西，而所谓的语句，则一定是完成了某些功能\n",
    "    ## lambda 能用而常规函数不能用的地方：\n",
    "    ## lambda 可以用在列表内部\n",
    "[(lambda x:x*x)(x) for x in range(10)]\n",
    "    ## lambda 可以用作某些函数的参数，如列表排序\n",
    "l = [(1,20),(3,0),(9,10),(2,-1)]\n",
    "l.sort(key=lambda x:x[1]) # 按列表中元组的第二个元素进行排序\n",
    "print(list(l))\n",
    "\n",
    "## lambda 的主体是只有一行的简单表达式，并不能扩展为一个多行的代码块（Java语言中可以）"
   ]
  },
  {
   "cell_type": "code",
   "execution_count": 8,
   "id": "05f1e500",
   "metadata": {},
   "outputs": [
    {
     "data": {
      "text/plain": [
       "<map at 0x7fec4ff96340>"
      ]
     },
     "execution_count": 8,
     "metadata": {},
     "output_type": "execute_result"
    }
   ],
   "source": [
    "## 为什么要使用匿名函数：一个功能只需要一行代码就能搞定，同时它只会被使用一次，就可以使用匿名函数\n",
    "## 列表中的元素作平方运算\n",
    "## 使用lambda方式\n",
    "squared = map(lambda x:x**2,[1,2,3,4,5])\n",
    "## 常规函数\n",
    "def square(x):\n",
    "    return x**2\n",
    "squared = map(square, [1,2,3,4,5])\n",
    "## map(function, iterable) 该函数表示对iterable中的每一个元素使用function进行操作"
   ]
  },
  {
   "cell_type": "code",
   "execution_count": 13,
   "id": "e001404d",
   "metadata": {},
   "outputs": [
    {
     "name": "stdout",
     "output_type": "stream",
     "text": [
      "[2, 4, 6]\n",
      "--------\n",
      "原列表:[1, 2, 3]\n",
      "函数调用后返回的列表:[2, 4, 6]\n",
      "函数调用后原列表:[1, 2, 3]\n"
     ]
    }
   ],
   "source": [
    "## python 函数式编程\n",
    "## 所谓函数式编程是指代码中每一块都是不可变的（immutable）,都是由纯函数（pure function）的形式组成。此处的纯函数是指函数本身相互独立、\n",
    "## 互不影响，对于相同的输入，总会有相同的输出，没有任何副作用。\n",
    "\n",
    "## 列子 对于一个列表，想让它每一个元素的值变为原来的2倍\n",
    "def multiply_2(l):\n",
    "    for index in range(0, len(l)):\n",
    "        l[index] *= 2\n",
    "    return l\n",
    "print(multiply_2([1,2,3]))\n",
    "## 以上的函数不是一个纯函数，因为调用函数后，列表l被修改了，使用以下函数修改为纯函数\n",
    "def multiply_2(l):\n",
    "    l_new = []\n",
    "    for index in range(0, len(l)):\n",
    "        l_new.append(l[index] * 2)\n",
    "    return l_new\n",
    "l = [1,2,3]\n",
    "\n",
    "print('--------')\n",
    "print('原列表:{}'.format(l))\n",
    "print('函数调用后返回的列表:{}'.format(multiply_2(l)))\n",
    "print('函数调用后原列表:{}'.format(l))\n",
    "\n",
    "## 函数式编程的优点在于其纯函数和不可变的特性使程序更加健壮，易于调试和测试；缺点在于限制多，难写。\n"
   ]
  },
  {
   "cell_type": "code",
   "execution_count": 30,
   "id": "02e145bf",
   "metadata": {},
   "outputs": [
    {
     "name": "stdout",
     "output_type": "stream",
     "text": [
      "[0, 4, 10, 12, 14, 16]\n",
      "[0, 2, 6, 8]\n",
      "28\n"
     ]
    }
   ],
   "source": [
    "## python内置函数式特性的函数，结合匿名函数一起使用\n",
    "## map(function, iterable), 它表示对iterable中的每一个元素运用函数function, 返回一个新的可遍历的集合。\n",
    "## 对列表的每一个元素乘于2\n",
    "l = [0,2,5,6,7,8]\n",
    "l_new = map(lambda x: x * 2, l)\n",
    "print(list(l_new))\n",
    "\n",
    "## filter(func, iterable) 它表示对iterable中每一个元素运用函数function做判断，function函数返回true 或者 false, 最终返回一个\n",
    "## 由结果是true的元素组成的集合\n",
    "### 返回偶数集合\n",
    "l_even = filter(lambda x: x % 2 == 0, l)\n",
    "print(list(l_even))\n",
    "\n",
    "## reduce(func, iterable), 该函数用来对集合做一些累加操作，func 规定了两个参数，表示对iterable中的每一个元素以及上一次调用后的结果\n",
    "## 应用func进行计算，所以最后返回的是一个单独的数值\n",
    "## 计算列表累加\n",
    "# py3中 reduce 移到了functools模块中\n",
    "l_add = functools.reduce(lambda x, y: x + y, l)\n",
    "print(l_add)\n"
   ]
  },
  {
   "cell_type": "code",
   "execution_count": 26,
   "id": "322787aa",
   "metadata": {},
   "outputs": [
    {
     "name": "stdout",
     "output_type": "stream",
     "text": [
      "[('ben', 30), ('mike', 10), ('lucy', 2)]\n"
     ]
    }
   ],
   "source": [
    "## 思考题\n",
    "## 1 给定一个字典，按照每个元素的值由高到低进行排序\n",
    "d = {'mike': 10, 'lucy': 2, 'ben': 30}\n",
    "sorted_d = sorted(d.items(), key = lambda x: x[1], reverse= True)\n",
    "# sorted(iterable, key=None, reverse=False)\n",
    "# 该函数对iterable进行排序，key 可以指定一个函数（该函数只有一个入参）在迭代中从每一个元素中提出排序值\n",
    "print(sorted_d)\n"
   ]
  },
  {
   "cell_type": "code",
   "execution_count": null,
   "id": "fb3c2df1",
   "metadata": {},
   "outputs": [],
   "source": []
  }
 ],
 "metadata": {
  "kernelspec": {
   "display_name": "Python 3 (ipykernel)",
   "language": "python",
   "name": "python3"
  },
  "language_info": {
   "codemirror_mode": {
    "name": "ipython",
    "version": 3
   },
   "file_extension": ".py",
   "mimetype": "text/x-python",
   "name": "python",
   "nbconvert_exporter": "python",
   "pygments_lexer": "ipython3",
   "version": "3.9.7"
  }
 },
 "nbformat": 4,
 "nbformat_minor": 5
}
